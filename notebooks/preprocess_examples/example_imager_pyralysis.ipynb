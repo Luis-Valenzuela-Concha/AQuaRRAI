{
 "cells": [
  {
   "cell_type": "code",
   "execution_count": null,
   "id": "a4966ac0",
   "metadata": {},
   "outputs": [],
   "source": [
    "import sys\n",
    "from pathlib import Path\n",
    "\n",
    "ROOT = Path().resolve().parent.parent\n",
    "sys.path.append(str(ROOT))"
   ]
  },
  {
   "cell_type": "code",
   "execution_count": 2,
   "id": "7e7ab86c",
   "metadata": {},
   "outputs": [],
   "source": [
    "from src.imager.pyralysis import PyralysisImager \n",
    "\n",
    "image = 'img_0001'\n",
    "sim = 'sim1'\n",
    "\n",
    "ms_folder =  ROOT / 'data/processed' / image / sim\n",
    "ms_path = ms_folder / 'visibilities.ms'\n",
    "\n",
    "imager = PyralysisImager(vis=str(ms_path), output_folder=str(ms_folder))"
   ]
  },
  {
   "cell_type": "code",
   "execution_count": 3,
   "id": "8e8b3cee",
   "metadata": {},
   "outputs": [],
   "source": [
    "imager.start_client(\n",
    "    config = {\n",
    "        \"backend\": \"numba_cpu\",\n",
    "        \"memory_fraction\": 0.8,\n",
    "        \"cpu_fraction\": 0.9,\n",
    "        \"verbose\": False,\n",
    "    }\n",
    ")"
   ]
  },
  {
   "cell_type": "code",
   "execution_count": 4,
   "id": "4e317753",
   "metadata": {},
   "outputs": [],
   "source": [
    "imager.setup_dataset(\n",
    "    config={\n",
    "        \"filter_flag_column\": False,\n",
    "        \"calculate_psf\": False,\n",
    "        \"imsize\": 256,\n",
    "        \"cellsize\": 0.02, # arcsec\n",
    "        \"hermitian_symmetry\": True,\n",
    "        \"verbose\": False,\n",
    "    }\n",
    ")"
   ]
  },
  {
   "cell_type": "code",
   "execution_count": 5,
   "id": "250d5cff",
   "metadata": {},
   "outputs": [
    {
     "data": {
      "image/png": "[encoded data removed]",
      "text/plain": [
       "<Figure size 400x400 with 1 Axes>"
      ]
     },
     "metadata": {},
     "output_type": "display_data"
    }
   ],
   "source": [
    "imager.set_mask(\n",
    "    config={\n",
    "        \"threshold\": 0.8,\n",
    "        \"plot_mask\": True,\n",
    "    }\n",
    ")"
   ]
  },
  {
   "cell_type": "code",
   "execution_count": 6,
   "id": "22d1cf3a",
   "metadata": {},
   "outputs": [],
   "source": [
    "imager.reconstruct(\n",
    "    config={\n",
    "        \"estimator\": {\n",
    "            \"algorithm\": \"bilinear_interpolation\",\n",
    "            \"padding_factor\": 1.0,\n",
    "            # \"kernel\": {\n",
    "            #     \"algorithm\": \"pswf1\",\n",
    "            #     \"size\": 7,\n",
    "            #     \"oversampling_factor\": 1,\n",
    "            # },\n",
    "        },\n",
    "        \"linear_search\": {\n",
    "            \"algorithm\": \"backtracking_armijo\",\n",
    "            \"step\": 10,\n",
    "        },\n",
    "        \"projection\": \"less_than\",\n",
    "        \"differentiable\": {\n",
    "            \"algorithm\": \"lbfgs\",\n",
    "            \"niter\": 1,\n",
    "        },\n",
    "        \"optimizer\": {\n",
    "            \"algorithm\": \"sdmm\",\n",
    "            \"niter\": 2,\n",
    "        },\n",
    "        \"verbose\": False,\n",
    "    }\n",
    ")"
   ]
  },
  {
   "cell_type": "code",
   "execution_count": 7,
   "id": "4f8ff53d",
   "metadata": {},
   "outputs": [],
   "source": [
    "imager.stop_client()"
   ]
  }
 ],
 "metadata": {
  "kernelspec": {
   "display_name": "venv_pyralysis",
   "language": "python",
   "name": "python3"
  },
  "language_info": {
   "codemirror_mode": {
    "name": "ipython",
    "version": 3
   },
   "file_extension": ".py",
   "mimetype": "text/x-python",
   "name": "python",
   "nbconvert_exporter": "python",
   "pygments_lexer": "ipython3",
   "version": "3.11.9"
  }
 },
 "nbformat": 4,
 "nbformat_minor": 5
}
