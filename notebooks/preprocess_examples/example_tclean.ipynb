{
 "cells": [
  {
   "cell_type": "code",
   "execution_count": 4,
   "id": "b15b2b1e",
   "metadata": {},
   "outputs": [],
   "source": [
    "import sys\n",
    "from pathlib import Path\n",
    "\n",
    "ROOT = Path().resolve().parent.parent\n",
    "sys.path.append(str(ROOT))"
   ]
  },
  {
   "cell_type": "code",
   "execution_count": 6,
   "id": "c1e84834",
   "metadata": {},
   "outputs": [],
   "source": [
    "from src.imager.tclean import TCleanImager\n",
    "\n",
    "image = 'img_0001'\n",
    "sim = 'sim1'\n",
    "\n",
    "ms_folder =  ROOT / 'data/processed' / image / sim\n",
    "ms_path = ms_folder / 'visibilities.ms'\n",
    "\n",
    "imager = TCleanImager(vis=str(ms_path), output_folder=str(ms_folder))"
   ]
  },
  {
   "cell_type": "code",
   "execution_count": 7,
   "id": "b44aadab",
   "metadata": {},
   "outputs": [
    {
     "name": "stderr",
     "output_type": "stream",
     "text": [
      "\n",
      "0%....10....20....30....40....50....60....70....80....90....100%\n",
      "\n",
      "0%....10....20....30....40....50....60....70....80....90....100%\n"
     ]
    },
    {
     "name": "stdout",
     "output_type": "stream",
     "text": [
      "Imaging completed. Output saved to /mnt/c/Users/valen/OneDrive/Documentos/GitHub/Memoria/data/processed/img_0001/sim1/tclean_hogbom_10\n"
     ]
    }
   ],
   "source": [
    "n_iter_hogbom = 10\n",
    "\n",
    "imager.reconstruct(\n",
    "    config={\n",
    "        'deconvolver': 'hogbom',\n",
    "        'imsize': 256,\n",
    "        'cell': '0.02arcsec', # 0.02arcsec\n",
    "        'niter': n_iter_hogbom,\n",
    "        'weighting': 'natural'\n",
    "    }\n",
    ")"
   ]
  },
  {
   "cell_type": "code",
   "execution_count": 8,
   "id": "a4605850",
   "metadata": {},
   "outputs": [
    {
     "name": "stderr",
     "output_type": "stream",
     "text": [
      "\n",
      "0%....10....20....30....40....50....60....70....80....90....100%\n",
      "\n",
      "0%....10....20....30....40....50....60....70....80....90....100%\n"
     ]
    },
    {
     "name": "stdout",
     "output_type": "stream",
     "text": [
      "Imaging completed. Output saved to /mnt/c/Users/valen/OneDrive/Documentos/GitHub/Memoria/data/processed/img_0001/sim1/tclean_multiscale_1\n"
     ]
    }
   ],
   "source": [
    "n_iter_multiscale = 1\n",
    "\n",
    "imager.reconstruct(\n",
    "    config={\n",
    "        'deconvolver': 'multiscale',\n",
    "        'imsize': 256,\n",
    "        'cell': '0.02arcsec', # 0.02arcsec\n",
    "        'niter': n_iter_multiscale,\n",
    "        'weighting': 'natural',\n",
    "        'scales': [0,5,15]\n",
    "    }\n",
    ")"
   ]
  },
  {
   "cell_type": "code",
   "execution_count": 9,
   "id": "5a49e886",
   "metadata": {},
   "outputs": [
    {
     "name": "stdout",
     "output_type": "stream",
     "text": [
      "Peak Res at start of step : 8.01164\n",
      "Flux at start of step : 0\n",
      "MAX RES at end : 194.635\n",
      "peakres : 194.635    model : 1.00356\n"
     ]
    },
    {
     "name": "stderr",
     "output_type": "stream",
     "text": [
      "\n",
      "0%....10....20....30....40....50....60....70....80....90....100%\n"
     ]
    },
    {
     "name": "stdout",
     "output_type": "stream",
     "text": [
      "Imaging completed. Output saved to /mnt/c/Users/valen/OneDrive/Documentos/GitHub/Memoria/data/processed/img_0001/sim1/tclean_mem_1\n"
     ]
    }
   ],
   "source": [
    "n_iter_mem = 1\n",
    "\n",
    "imager.reconstruct(\n",
    "    config={\n",
    "        'deconvolver': 'mem',\n",
    "        'imsize': 256,\n",
    "        'cell': '0.02arcsec', # 0.02arcsec\n",
    "        'niter': n_iter_mem,\n",
    "        'weighting': 'natural'\n",
    "    }\n",
    ")"
   ]
  }
 ],
 "metadata": {
  "kernelspec": {
   "display_name": "venv_base",
   "language": "python",
   "name": "python3"
  },
  "language_info": {
   "codemirror_mode": {
    "name": "ipython",
    "version": 3
   },
   "file_extension": ".py",
   "mimetype": "text/x-python",
   "name": "python",
   "nbconvert_exporter": "python",
   "pygments_lexer": "ipython3",
   "version": "3.11.9"
  }
 },
 "nbformat": 4,
 "nbformat_minor": 5
}
