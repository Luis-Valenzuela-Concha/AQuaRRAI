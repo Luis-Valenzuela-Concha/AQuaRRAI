{
 "cells": [
  {
   "cell_type": "code",
   "execution_count": 1,
   "id": "e2f70fc9",
   "metadata": {},
   "outputs": [],
   "source": [
    "import sys\n",
    "from pathlib import Path\n",
    "import os \n",
    "ROOT = Path().resolve().parent.parent\n",
    "sys.path.append(str(ROOT))"
   ]
  },
  {
   "cell_type": "code",
   "execution_count": null,
   "id": "9e323ab3",
   "metadata": {},
   "outputs": [],
   "source": [
    "from src.preprocess.imager import Imager\n",
    "\n",
    "processed_folder = ROOT / 'data/processed/'\n",
    "image_folders = os.listdir(processed_folder)\n",
    "image_folders.sort()\n",
    "\n",
    "hogbom_config = {\n",
    "    'imsize': 256,\n",
    "    'cell': '0.02arcsec',\n",
    "    'niter': 40000,\n",
    "    'weighting': 'natural',\n",
    "}\n",
    "\n",
    "multiscale_config = {\n",
    "    'imsize': 256,\n",
    "    'cell': '0.02arcsec',\n",
    "    'niter': 2500,\n",
    "    'weighting': 'natural',\n",
    "    'scales': [0,5,100],\n",
    "}\n",
    "\n",
    "for image_folder in image_folders:\n",
    "    sim_folders = [f for f in os.listdir(processed_folder / image_folder) if 'sim' in f]\n",
    "    for sim_folder in sim_folders:\n",
    "        vis_path = processed_folder / image_folder / sim_folder / 'visibilities.ms'\n",
    "        vis_folder = processed_folder / image_folder / sim_folder\n",
    "        imager = Imager(vis=str(vis_path), output_path=str(vis_folder))\n",
    "        imager.tclean_hogbom(config=hogbom_config)\n",
    "        imager.tclean_multiscale(config=multiscale_config)"
   ]
  }
 ],
 "metadata": {
  "kernelspec": {
   "display_name": "venv",
   "language": "python",
   "name": "python3"
  },
  "language_info": {
   "codemirror_mode": {
    "name": "ipython",
    "version": 3
   },
   "file_extension": ".py",
   "mimetype": "text/x-python",
   "name": "python",
   "nbconvert_exporter": "python",
   "pygments_lexer": "ipython3",
   "version": "3.10.12"
  }
 },
 "nbformat": 4,
 "nbformat_minor": 5
}
